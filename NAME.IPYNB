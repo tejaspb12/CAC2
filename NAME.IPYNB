{
 "cells": [
  {
   "cell_type": "code",
   "execution_count": 50,
   "metadata": {},
   "outputs": [
    {
     "name": "stdout",
     "output_type": "stream",
     "text": [
      "My Name is Tejas P B \n",
      "My Register Number 22122321\n",
      "I Belong to department of Data science\n",
      "I'M from 1 MSc Ea \n",
      "\n",
      "[]\n"
     ]
    }
   ],
   "source": [
    "file2 = open(\"tejas\",\"r+\")\n",
    "print(file2.read())\n",
    "print(file2.readline())\n",
    "print(file2.readlines())\n",
    "\n"
   ]
  },
  {
   "cell_type": "code",
   "execution_count": 57,
   "metadata": {},
   "outputs": [
    {
     "ename": "NameError",
     "evalue": "name 'file' is not defined",
     "output_type": "error",
     "traceback": [
      "\u001b[1;31m---------------------------------------------------------------------------\u001b[0m",
      "\u001b[1;31mNameError\u001b[0m                                 Traceback (most recent call last)",
      "\u001b[1;32mUntitled-1.ipynb Cell 2\u001b[0m in \u001b[0;36m<cell line: 5>\u001b[1;34m()\u001b[0m\n\u001b[0;32m      <a href='vscode-notebook-cell:Untitled-1.ipynb?jupyter-notebook#X13sdW50aXRsZWQ%3D?line=2'>3</a>\u001b[0m file2\u001b[39m.\u001b[39mclose()\n\u001b[0;32m      <a href='vscode-notebook-cell:Untitled-1.ipynb?jupyter-notebook#X13sdW50aXRsZWQ%3D?line=3'>4</a>\u001b[0m file2 \u001b[39m=\u001b[39m \u001b[39mopen\u001b[39m(\u001b[39m\"\u001b[39m\u001b[39mtejas\u001b[39m\u001b[39m\"\u001b[39m,\u001b[39m\"\u001b[39m\u001b[39mr\u001b[39m\u001b[39m\"\u001b[39m)\n\u001b[1;32m----> <a href='vscode-notebook-cell:Untitled-1.ipynb?jupyter-notebook#X13sdW50aXRsZWQ%3D?line=4'>5</a>\u001b[0m \u001b[39mprint\u001b[39m(file\u001b[39m.\u001b[39mreadlines())\n",
      "\u001b[1;31mNameError\u001b[0m: name 'file' is not defined"
     ]
    }
   ],
   "source": [
    "file2 = open(\"tejas\",\"a\")\n",
    "file2.write(\"My Class teacher is Dr Kedar Vishnu \")\n",
    "file2.close()\n",
    "file2 = open(\"tejas\",\"r\")\n",
    "print(file.readlines())"
   ]
  },
  {
   "cell_type": "code",
   "execution_count": 58,
   "metadata": {},
   "outputs": [
    {
     "name": "stdout",
     "output_type": "stream",
     "text": [
      "My Name is Tejas P B \n",
      "My Register Number 22122321\n",
      "I Belong to department of Data science\n",
      "I'M from 1 MScEa \n",
      "My Class teacher is Dr Kedar Vishnu My Class teacher is Dr Kedar Vishnu \n",
      "\n",
      "[]\n"
     ]
    }
   ],
   "source": [
    "file2 = open(\"tejas\",\"r+\")\n",
    "print(file2.read())\n",
    "print(file2.readline())\n",
    "print(file2.readlines())"
   ]
  },
  {
   "cell_type": "code",
   "execution_count": 63,
   "metadata": {},
   "outputs": [
    {
     "name": "stdout",
     "output_type": "stream",
     "text": [
      "['My Name is Tejas P B \\n', 'My Register Number 22122321\\n', 'I Belong to department of Data science\\n', \"I'M from 1 MScEa \\n\", 'My Class teacher is Dr Kedar Vishnu My Class teacher is Dr Kedar Vishnu My Class teacher is Dr Kedar Vishnu My Class teacher is Dr Kedar Vishnu My Class teacher is Dr Kedar Vishnu ']\n"
     ]
    }
   ],
   "source": [
    "# file2 = open(\"tejas\",\"a\")\n",
    "# file2.write(\"My Class teacher is Dr Kedar Vishnu \")\n",
    "# file2.close()\n",
    "file2 = open(\"tejas\",\"r\")\n",
    "print(file2.readlines())"
   ]
  },
  {
   "cell_type": "code",
   "execution_count": 81,
   "metadata": {},
   "outputs": [
    {
     "name": "stdout",
     "output_type": "stream",
     "text": [
      "['katrri\\t22122322\\tkatri@gmail.com\\t1234567890\\n', 'tejad\\t23456789\\tyawsl\\t324567890\\n', 'tfegykdk\\t1789\\ttweygwe\\tiyqewfdbe\\n', '\\t\\t\\t\\n']\n"
     ]
    }
   ],
   "source": [
    "Name = input(\"Enter your NAME\")\n",
    "Register = input(\"Enter your register number\")\n",
    "Mail = input(\"Enter your mail id\")\n",
    "Phonenumber = input(\"Enter your phonenumber\")\n",
    "file1 = open(\"123\",\"a\")\n",
    "file1.write(Name+\"\\t\"+Register+\"\\t\"+Mail+\"\\t\"+Phonenumber+\"\\n\")\n",
    "file1.close()\n",
    "file1 = open(\"123\",\"r\")\n",
    "print(file1.readlines())"
   ]
  },
  {
   "cell_type": "code",
   "execution_count": 83,
   "metadata": {},
   "outputs": [
    {
     "name": "stdout",
     "output_type": "stream",
     "text": [
      "['katrri\\t22122322\\tkatri@gmail.com\\t1234567890\\n', 'TEJAS P B \\t22122321\\ttejaspb2gmail.com\\t6361574997\\n', '\\t\\t\\t\\n']\n"
     ]
    }
   ],
   "source": [
    "Name = input(\"Enter your NAME\")\n",
    "Register = input(\"Enter your register number\")\n",
    "Mail = input(\"Enter your mail id\")\n",
    "Phonenumber = input(\"Enter your phonenumber\")\n",
    "file1 = open(\"123\",\"a\")\n",
    "file1.write(Name+\"\\t\"+Register+\"\\t\"+Mail+\"\\t\"+Phonenumber+\"\\n\")\n",
    "file1.close()\n",
    "file1 = open(\"123\",\"r\")\n",
    "print(file1.readlines())"
   ]
  },
  {
   "cell_type": "code",
   "execution_count": null,
   "metadata": {},
   "outputs": [],
   "source": []
  },
  {
   "cell_type": "code",
   "execution_count": null,
   "metadata": {},
   "outputs": [],
   "source": []
  },
  {
   "cell_type": "code",
   "execution_count": null,
   "metadata": {},
   "outputs": [],
   "source": []
  },
  {
   "cell_type": "code",
   "execution_count": null,
   "metadata": {},
   "outputs": [],
   "source": []
  },
  {
   "cell_type": "code",
   "execution_count": null,
   "metadata": {},
   "outputs": [],
   "source": []
  }
 ],
 "metadata": {
  "kernelspec": {
   "display_name": "Python 3.10.6 64-bit",
   "language": "python",
   "name": "python3"
  },
  "language_info": {
   "codemirror_mode": {
    "name": "ipython",
    "version": 3
   },
   "file_extension": ".py",
   "mimetype": "text/x-python",
   "name": "python",
   "nbconvert_exporter": "python",
   "pygments_lexer": "ipython3",
   "version": "3.10.6"
  },
  "orig_nbformat": 4,
  "vscode": {
   "interpreter": {
    "hash": "ba770357253cd0f57b2852797ab558b76444ec9f8a45aef7511b46da794e2861"
   }
  }
 },
 "nbformat": 4,
 "nbformat_minor": 2
}
